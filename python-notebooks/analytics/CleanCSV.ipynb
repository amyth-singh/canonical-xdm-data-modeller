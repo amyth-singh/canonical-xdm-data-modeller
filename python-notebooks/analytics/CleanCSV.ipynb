{
 "cells": [
  {
   "cell_type": "code",
   "execution_count": 1,
   "metadata": {},
   "outputs": [
    {
     "name": "stderr",
     "output_type": "stream",
     "text": [
      "/Users/thinkninja/repos/xdm_modeller/python-notebooks/.venv/lib/python3.7/site-packages/ipykernel_launcher.py:18: DtypeWarning: Columns (1,4,5,6,10,12,13,14,15,16,17,18,19,20,21,23,25,26,27,33,34,36,44,45,46,47,53,54,58,59,62,66,67,68,70,72,73,74,75,76,77,78,83,86,87) have mixed types.Specify dtype option on import or set low_memory=False.\n"
     ]
    }
   ],
   "source": [
    "import pandas as pd\n",
    "\n",
    "def clean_csv(input_file, output_file):\n",
    "    # Read the CSV file into a DataFrame\n",
    "    df = pd.read_csv(input_file)\n",
    "\n",
    "    # Strip whitespace from headers\n",
    "    df.rename(columns=lambda x: x.strip(), inplace=True)\n",
    "\n",
    "    # Strip whitespace from all string columns\n",
    "    for col in df.select_dtypes(include=['object']):\n",
    "        df[col] = df[col].str.strip()\n",
    "\n",
    "    # Save the cleaned DataFrame to a new CSV file\n",
    "    df.to_csv(output_file, index=False)\n",
    "\n",
    "# Usage example\n",
    "clean_csv('../shared/DataLibrary/inputs/Crew/MNP/result5.csv', '../shared/DataLibrary/inputs/Crew/MNP/MNP_Clean.csv')\n"
   ]
  }
 ],
 "metadata": {
  "kernelspec": {
   "display_name": ".venv",
   "language": "python",
   "name": "python3"
  },
  "language_info": {
   "codemirror_mode": {
    "name": "ipython",
    "version": 3
   },
   "file_extension": ".py",
   "mimetype": "text/x-python",
   "name": "python",
   "nbconvert_exporter": "python",
   "pygments_lexer": "ipython3",
   "version": "3.7.4"
  }
 },
 "nbformat": 4,
 "nbformat_minor": 2
}
