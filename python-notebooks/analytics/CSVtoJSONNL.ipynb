{
 "cells": [
  {
   "cell_type": "code",
   "execution_count": 2,
   "metadata": {},
   "outputs": [
    {
     "name": "stdout",
     "output_type": "stream",
     "text": [
      "CSV file '/Users/thinkninja/repos/Data Profiler/Data/Crew/Product/crew_origin_product_data23-9-8_15 24 47.csv' has been successfully converted to JSON file '<_io.TextIOWrapper name='/Users/thinkninja/repos/Data Profiler/Data/Crew/Product/JSON/crewProduct.jsonnl' mode='w' encoding='UTF-8'>'\n"
     ]
    }
   ],
   "source": [
    "# Import necessary libraries\n",
    "import pandas as pd\n",
    "import json\n",
    "\n",
    "# Define the input CSV file path and output JSONNL file path\n",
    "csv_file = '/Users/thinkninja/repos/Data Profiler/Data/Crew/Product/crew_origin_product_data23-9-8_15 24 47.csv'\n",
    "json_file = '/Users/thinkninja/repos/Data Profiler/Data/Crew/Product/JSON/crewProduct.json'\n",
    "\n",
    "# Function to convert a DataFrame row to a JSON object\n",
    "def row_to_json(row):\n",
    "    return json.dumps(row.to_dict())\n",
    "\n",
    "# Read the CSV file into a DataFrame\n",
    "df = pd.read_csv(csv_file)\n",
    "\n",
    "# Open the JSON file for writing\n",
    "with open(json_file, 'w') as json_file:\n",
    "    # Write the opening square bracket for the array\n",
    "    json_file.write('[')\n",
    "    \n",
    "    # Iterate through each row in the DataFrame\n",
    "    for index, row in df.iterrows():\n",
    "        # Convert the row to a JSON object and write it to the JSON file\n",
    "        json_file.write(row_to_json(row))\n",
    "        \n",
    "        # If it's not the last row, add a comma and newline\n",
    "        if index < len(df) - 1:\n",
    "            json_file.write(',\\n')\n",
    "    \n",
    "    # Write the closing square bracket for the array\n",
    "    json_file.write(']')\n",
    "\n",
    "print(f\"CSV file '{csv_file}' has been successfully converted to JSON file '{json_file}'\")"
   ]
  }
 ],
 "metadata": {
  "kernelspec": {
   "display_name": ".venv",
   "language": "python",
   "name": "python3"
  },
  "language_info": {
   "codemirror_mode": {
    "name": "ipython",
    "version": 3
   },
   "file_extension": ".py",
   "mimetype": "text/x-python",
   "name": "python",
   "nbconvert_exporter": "python",
   "pygments_lexer": "ipython3",
   "version": "3.7.4"
  },
  "orig_nbformat": 4
 },
 "nbformat": 4,
 "nbformat_minor": 2
}
