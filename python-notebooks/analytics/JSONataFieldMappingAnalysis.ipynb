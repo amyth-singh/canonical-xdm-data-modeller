{
 "cells": [
  {
   "cell_type": "markdown",
   "id": "d1fa8287",
   "metadata": {},
   "source": [
    "# JSONata Field Mapping Analysis\n",
    "This notebook analyses a JSONata script and a JSON document, identifying fields in the JSON document that aren't mapped in the JSONata script."
   ]
  },
  {
   "cell_type": "code",
   "execution_count": 1,
   "id": "e81f2787",
   "metadata": {},
   "outputs": [],
   "source": [
    "\n",
    "import json\n",
    "import re\n",
    "from typing import List, Dict, Any\n"
   ]
  },
  {
   "cell_type": "markdown",
   "id": "ff808f45",
   "metadata": {},
   "source": [
    "## Function Definitions"
   ]
  },
  {
   "cell_type": "code",
   "execution_count": 2,
   "id": "7271240a",
   "metadata": {},
   "outputs": [],
   "source": [
    "\n",
    "def extract_jsonata_references(jsonata_script: str) -> List[str]:\n",
    "    \"\"\"\n",
    "    Extracts all references within backticks from a JSONata script.\n",
    "\n",
    "    Args:\n",
    "    jsonata_script (str): The JSONata script as a string.\n",
    "\n",
    "    Returns:\n",
    "    List[str]: A list of references found within backticks.\n",
    "    \"\"\"\n",
    "    # Regular expression to find all occurrences of backtick-enclosed strings\n",
    "    pattern = r\"`([^`]*)`\"\n",
    "    return re.findall(pattern, jsonata_script)\n"
   ]
  },
  {
   "cell_type": "code",
   "execution_count": 3,
   "id": "39b5f576",
   "metadata": {},
   "outputs": [],
   "source": [
    "\n",
    "def compare_fields(jsonata_references: List[str], json_data: Dict[str, Any]) -> List[str]:\n",
    "    \"\"\"\n",
    "    Compares JSONata references to the keys in a JSON document.\n",
    "\n",
    "    Args:\n",
    "    jsonata_references (List[str]): List of JSONata references.\n",
    "    json_data (Dict[str, Any]): The JSON document as a dictionary.\n",
    "\n",
    "    Returns:\n",
    "    List[str]: A list of JSON keys that are not mapped in the JSONata references.\n",
    "    \"\"\"\n",
    "    unmapped_fields = []\n",
    "\n",
    "    # Flattening the JSON keys to a single level for comparison\n",
    "    def flatten_json(y):\n",
    "        out = {}\n",
    "\n",
    "        def flatten(x, name=''):\n",
    "            if type(x) is dict:\n",
    "                for a in x:\n",
    "                    flatten(x[a], name + a + '.')\n",
    "            elif type(x) is list:\n",
    "                i = 0\n",
    "                for a in x:\n",
    "                    flatten(a, name + str(i) + '.')\n",
    "                    i += 1\n",
    "            else:\n",
    "                out[name[:-1]] = x\n",
    "\n",
    "        flatten(y)\n",
    "        return out\n",
    "\n",
    "    flattened_json = flatten_json(json_data)\n",
    "\n",
    "    # Checking each flattened JSON key against JSONata references\n",
    "    for key in flattened_json.keys():\n",
    "        if key not in jsonata_references:\n",
    "            unmapped_fields.append(key)\n",
    "\n",
    "    return unmapped_fields\n"
   ]
  },
  {
   "cell_type": "markdown",
   "id": "cb95a9bf",
   "metadata": {},
   "source": [
    "## Execution"
   ]
  },
  {
   "cell_type": "code",
   "execution_count": 4,
   "id": "455722c3",
   "metadata": {},
   "outputs": [
    {
     "data": {
      "text/plain": [
       "['discontinued']"
      ]
     },
     "execution_count": 4,
     "metadata": {},
     "output_type": "execute_result"
    }
   ],
   "source": [
    "\n",
    "# Function to read a file and return its content\n",
    "def read_file(file_path):\n",
    "    with open(file_path, 'r') as file:\n",
    "        return file.read()\n",
    "\n",
    "# Example file paths (replace with actual file paths)\n",
    "jsonata_script_path = '../shared/JSONataRegistry/Crew/CrewProductMap.jsonata'\n",
    "json_document_path = '../shared/DataLibrary/inputs/Crew/Product/JSON/document_1.json'\n",
    "\n",
    "# Reading the JSONata script and JSON document\n",
    "jsonata_script = read_file(jsonata_script_path)\n",
    "json_document = json.loads(read_file(json_document_path))\n",
    "\n",
    "# Extract references from JSONata script\n",
    "references = extract_jsonata_references(jsonata_script)\n",
    "\n",
    "# Compare with JSON document\n",
    "unmapped_fields = compare_fields(references, json_document)\n",
    "\n",
    "unmapped_fields\n"
   ]
  }
 ],
 "metadata": {
  "kernelspec": {
   "display_name": ".venv",
   "language": "python",
   "name": "python3"
  },
  "language_info": {
   "codemirror_mode": {
    "name": "ipython",
    "version": 3
   },
   "file_extension": ".py",
   "mimetype": "text/x-python",
   "name": "python",
   "nbconvert_exporter": "python",
   "pygments_lexer": "ipython3",
   "version": "3.7.4"
  }
 },
 "nbformat": 4,
 "nbformat_minor": 5
}
