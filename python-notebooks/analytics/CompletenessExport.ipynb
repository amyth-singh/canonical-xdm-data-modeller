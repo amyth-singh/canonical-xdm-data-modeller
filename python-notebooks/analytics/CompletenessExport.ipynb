{
 "cells": [
  {
   "cell_type": "markdown",
   "metadata": {},
   "source": [
    "# Analyzing Column Completeness in a Pandas DataFrame\n",
    "In this notebook, we will analyze the completeness of each column in a pandas DataFrame. Completeness is defined as the percentage of non-NA/null entries in each column. We will then export the column names along with their respective completeness percentages to a CSV file.\n"
   ]
  },
  {
   "cell_type": "code",
   "execution_count": 21,
   "metadata": {},
   "outputs": [],
   "source": [
    "import pandas as pd\n",
    "import os\n",
    "\n",
    "input_path = '../shared/DataLibrary/inputs/Crew/MNP/CSV'\n",
    "output_path = '../shared/DataLibrary/inputs/Crew/MNP/Analysis/column_completeness.csv'"
   ]
  },
  {
   "cell_type": "markdown",
   "metadata": {},
   "source": [
    "## Top 5 Function\n",
    "Function to get the top 5 most frequent values for each column\n"
   ]
  },
  {
   "cell_type": "code",
   "execution_count": 22,
   "metadata": {},
   "outputs": [],
   "source": [
    "def get_top_5_frequent_values(column):\n",
    "    return column.value_counts().head(5).index.tolist()\n"
   ]
  },
  {
   "cell_type": "markdown",
   "metadata": {},
   "source": [
    "## Calculating Column Completeness and Top 5 Frequent Values\n",
    "Here, we calculate the completeness of each column in the DataFrame, as well as identify the top 5 most frequent distinct values for each column. The completeness is calculated as the percentage of non-NA/null entries in each column.\n"
   ]
  },
  {
   "cell_type": "code",
   "execution_count": 23,
   "metadata": {},
   "outputs": [],
   "source": [
    "def process_single_csv(df):\n",
    "    data = []\n",
    "    for col in df.columns:\n",
    "        non_na_count = df[col].notna().sum()\n",
    "        completeness_percentage = non_na_count / len(df) * 100\n",
    "        top_5_values = get_top_5_frequent_values(df[col])\n",
    "        data.append([col, non_na_count, completeness_percentage, top_5_values])\n",
    "\n",
    "    completeness_df = pd.DataFrame(data, columns=['Column Name', 'Completeness (Absolute)', 'Completeness (%)', 'Top 5 Frequent Values'])\n",
    "    completeness_df.sort_values('Completeness (%)', ascending=False, inplace=True)\n",
    "\n",
    "    return completeness_df\n"
   ]
  },
  {
   "cell_type": "markdown",
   "metadata": {},
   "source": [
    "## Function to process data from a directory of CSV files"
   ]
  },
  {
   "cell_type": "code",
   "execution_count": 24,
   "metadata": {},
   "outputs": [],
   "source": [
    "def process_directory(input_dir, output_csv):\n",
    "    all_dataframes = []\n",
    "    base_schema = None\n",
    "    for filename in os.listdir(input_dir):\n",
    "        if filename.endswith(\".csv\"):\n",
    "            input_csv = os.path.join(input_dir, filename)\n",
    "            df = pd.read_csv(input_csv, low_memory=False)\n",
    "\n",
    "            # Check if the schema of the current file matches the base schema\n",
    "            if base_schema is None:\n",
    "                base_schema = set(df.columns)\n",
    "            elif set(df.columns) != base_schema:\n",
    "                # Report mismatch and continue with the next file\n",
    "                print(f\"Schema mismatch in {filename}:\")\n",
    "                print(\"Columns in this file but not in base:\", set(df.columns) - base_schema)\n",
    "                print(\"Columns in base but not in this file:\", base_schema - set(df.columns))\n",
    "                continue\n",
    "\n",
    "            all_dataframes.append(df)\n",
    "\n",
    "    if all_dataframes:\n",
    "        combined_df = pd.concat(all_dataframes, ignore_index=True)\n",
    "        completeness_df = process_single_csv(combined_df)\n",
    "        completeness_df.to_csv(output_csv, index=False)\n",
    "    else:\n",
    "        print(\"No files processed due to schema mismatches.\")\n"
   ]
  },
  {
   "cell_type": "markdown",
   "metadata": {},
   "source": [
    "## Creating a Completeness Report\n",
    "In this section, we save the DataFrame containing column names, their completeness percentages, and the top 5 most frequent distinct values to a CSV file for further analysis.\n"
   ]
  },
  {
   "cell_type": "code",
   "execution_count": 25,
   "metadata": {},
   "outputs": [],
   "source": [
    "if os.path.isfile(input_path):\n",
    "    process_single_csv(input_path, output_path)\n",
    "elif os.path.isdir(input_path):\n",
    "    process_directory(input_path, output_path)\n",
    "else:\n",
    "    print(\"The input path is neither a file nor a directory.\")\n",
    "\n"
   ]
  }
 ],
 "metadata": {
  "kernelspec": {
   "display_name": ".venv",
   "language": "python",
   "name": "python3"
  },
  "language_info": {
   "codemirror_mode": {
    "name": "ipython",
    "version": 3
   },
   "file_extension": ".py",
   "mimetype": "text/x-python",
   "name": "python",
   "nbconvert_exporter": "python",
   "pygments_lexer": "ipython3",
   "version": "3.7.4"
  },
  "orig_nbformat": 4
 },
 "nbformat": 4,
 "nbformat_minor": 2
}
