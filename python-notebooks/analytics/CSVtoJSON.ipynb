{
 "cells": [
  {
   "cell_type": "markdown",
   "metadata": {},
   "source": [
    "# CSV to Individual JSON Documents Converter\n",
    "In this notebook, we will convert a CSV file into individual JSON files where each line of the CSV file will be a separate JSON document saved in a separate file. We will use the `csv` and `json` modules to accomplish this.\n"
   ]
  },
  {
   "cell_type": "code",
   "execution_count": 16,
   "metadata": {},
   "outputs": [],
   "source": [
    "import csv\n",
    "import json\n",
    "import os\n"
   ]
  },
  {
   "cell_type": "markdown",
   "metadata": {},
   "source": [
    "## Specify File Path and Create Output Directory\n",
    "Here, we specify the path for the input CSV file and create a directory to store the individual JSON files. Make sure to replace `input_csv_file` and `output_directory` with the actual paths to your files.\n"
   ]
  },
  {
   "cell_type": "code",
   "execution_count": 17,
   "metadata": {},
   "outputs": [],
   "source": [
    "input_csv_file = '../shared/DataLibrary/inputs/Crew/MNP/CSV/MNP_Clean.csv'\n",
    "output_directory = '../shared/DataLibrary/outputs/Crew/Sales/MNP'\n",
    "max_rows = 10  # Set the maximum number of rows to process\n",
    "\n",
    "# Create output directory if it doesn't exist\n",
    "os.makedirs(output_directory, exist_ok=True)\n"
   ]
  },
  {
   "cell_type": "markdown",
   "metadata": {},
   "source": [
    "## Convert CSV to Individual JSON Documents\n",
    "In this section, we read the CSV file line by line and convert each line to a JSON object. We then save each JSON object to a new JSON file in the output directory.\n"
   ]
  },
  {
   "cell_type": "code",
   "execution_count": 18,
   "metadata": {},
   "outputs": [],
   "source": [
    "with open(input_csv_file, 'r') as csvfile:\n",
    "\n",
    "    reader = csv.DictReader(csvfile)\n",
    "    for i, row in enumerate(reader):\n",
    "        if i >= max_rows:\n",
    "            break  # Stop processing after max_rows\n",
    "        # Convert keys to lowercase\n",
    "        lower_case_row = {k.lower().strip(): v.strip() for k, v in row.items()}\n",
    "        with open(f'{output_directory}/document_{i+1}.json', 'w') as jsonfile:\n",
    "            json.dump(lower_case_row, jsonfile, indent=4)\n"
   ]
  },
  {
   "cell_type": "markdown",
   "metadata": {},
   "source": [
    "## Conclusion\n",
    "The script has finished executing and each line of the CSV file has been successfully converted to a separate JSON file. You can find the output JSON files in the directory specified in the `output_directory` variable.\n"
   ]
  }
 ],
 "metadata": {
  "kernelspec": {
   "display_name": ".venv",
   "language": "python",
   "name": "python3"
  },
  "language_info": {
   "codemirror_mode": {
    "name": "ipython",
    "version": 3
   },
   "file_extension": ".py",
   "mimetype": "text/x-python",
   "name": "python",
   "nbconvert_exporter": "python",
   "pygments_lexer": "ipython3",
   "version": "3.7.4"
  },
  "orig_nbformat": 4
 },
 "nbformat": 4,
 "nbformat_minor": 2
}
